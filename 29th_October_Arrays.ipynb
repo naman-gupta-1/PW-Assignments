{
 "cells": [
  {
   "cell_type": "markdown",
   "id": "ca2d1ce2-c121-4fea-8225-1ebe759efe73",
   "metadata": {},
   "source": [
    "1.Given an array, check if it contains any duplicates or not. arr = [1, 2, 4, 2, 5, 9] Output = True\n"
   ]
  },
  {
   "cell_type": "code",
   "execution_count": 1,
   "id": "61feaf58-d595-4e60-b2bb-4fcb1ceede52",
   "metadata": {},
   "outputs": [
    {
     "data": {
      "text/plain": [
       "True"
      ]
     },
     "execution_count": 1,
     "metadata": {},
     "output_type": "execute_result"
    }
   ],
   "source": [
    "def duplicates(arr):\n",
    "    for i in range(len(arr)):\n",
    "        for j in range(i+1,len(arr)):\n",
    "            if arr[i] == arr[j]:\n",
    "                return True\n",
    "    return False\n",
    "\n",
    "arr = [1, 2, 4, 2, 5, 9]\n",
    "duplicates(arr)"
   ]
  },
  {
   "cell_type": "markdown",
   "id": "e368a987-482f-4935-b86d-f23d672973c5",
   "metadata": {},
   "source": [
    "2. Given an array and an integer k, rotate the array to the right by k steps.\n",
    "arr = [1, 2, 3, 4, 5, 6, 7] k = 3\n",
    "Output = [5, 6, 7, 1, 2, 3, 4]"
   ]
  },
  {
   "cell_type": "code",
   "execution_count": 13,
   "id": "245de94d-2075-4041-b31a-1e868a9fbab1",
   "metadata": {},
   "outputs": [],
   "source": [
    "def rotate(arr,k):\n",
    "    new_arr = []\n",
    "    tem_arr = []\n",
    "    for i in range(len(arr)):\n",
    "        if i<=k:\n",
    "            tem_arr.append(arr[i])\n",
    "        else:\n",
    "            new_arr.append(arr[i])\n",
    "    new_arr.extend(tem_arr)\n",
    "    return new_arr"
   ]
  },
  {
   "cell_type": "code",
   "execution_count": 14,
   "id": "f40764d2-ef5d-436e-9fde-8fd99967faee",
   "metadata": {},
   "outputs": [
    {
     "data": {
      "text/plain": [
       "[5, 6, 7, 1, 2, 3, 4]"
      ]
     },
     "execution_count": 14,
     "metadata": {},
     "output_type": "execute_result"
    }
   ],
   "source": [
    "arr = [1, 2, 3, 4, 5, 6, 7] \n",
    "k = 3\n",
    "rotate(arr,k)"
   ]
  },
  {
   "cell_type": "markdown",
   "id": "b39a1f3b-c187-4700-9285-95413ea63d87",
   "metadata": {},
   "source": [
    "3. Reverse the given array in-place, means without using any extra data structure.\n",
    "arr = [2, 4, 5, 7, 9, 12]\n",
    "Output = [12, 9, 7, 5, 4, 2]"
   ]
  },
  {
   "cell_type": "code",
   "execution_count": 33,
   "id": "79eda340-8561-47a0-a500-2e5366cbf418",
   "metadata": {},
   "outputs": [
    {
     "data": {
      "text/plain": [
       "[12, 2, 4, 5, 7, 9]"
      ]
     },
     "execution_count": 33,
     "metadata": {},
     "output_type": "execute_result"
    }
   ],
   "source": [
    "def reverse(arr):\n",
    "    i = 0\n",
    "    j = len(arr)-1\n",
    "    while (i<j):\n",
    "        arr[i],arr[j]= arr[j],arr[i]\n",
    "        i +=1\n",
    "        j +-1\n",
    "    return arr\n",
    "reverse([2, 4, 5, 7, 9, 12])"
   ]
  },
  {
   "cell_type": "markdown",
   "id": "a3a6d078-e3d7-43d7-961f-fa8c5ae0e880",
   "metadata": {},
   "source": [
    "4. Given an array of integers, find the maximum element in an array\n",
    "arr = [10, 5, 20, 8, 15]\n",
    "Output = 20\n"
   ]
  },
  {
   "cell_type": "code",
   "execution_count": 39,
   "id": "04886217-170c-4cef-b927-a0cca825c0ff",
   "metadata": {},
   "outputs": [
    {
     "data": {
      "text/plain": [
       "20"
      ]
     },
     "execution_count": 39,
     "metadata": {},
     "output_type": "execute_result"
    }
   ],
   "source": [
    "def max(arr):\n",
    "    mx = 0\n",
    "    for i in arr:\n",
    "        if mx<i:\n",
    "            mx=i\n",
    "    return mx\n",
    "\n",
    "arr = [10, 5, 20, 8, 15]\n",
    "max(arr)"
   ]
  },
  {
   "cell_type": "markdown",
   "id": "afb26480-c1bd-4271-afc8-71a198976784",
   "metadata": {},
   "source": [
    "5. Given a sorted array, remove the duplicate element without using any extra data structure.\n",
    "arr = [1, 1, 2, 2, 2, 3, 3, 4, 4, 4, 5, 5]\n",
    "Output = [1, 2, 3, 4, 5]"
   ]
  },
  {
   "cell_type": "code",
   "execution_count": 40,
   "id": "1ee39fef-dd37-4186-a10e-6a39675375c8",
   "metadata": {},
   "outputs": [
    {
     "data": {
      "text/plain": [
       "[1, 2, 3, 4, 5]"
      ]
     },
     "execution_count": 40,
     "metadata": {},
     "output_type": "execute_result"
    }
   ],
   "source": [
    "def dedupe(arr):\n",
    "    j = 0\n",
    "    for i in range(1,len(arr)):\n",
    "        if arr[j]!=arr[i]:\n",
    "            j+=1\n",
    "            arr[j]=arr[i]\n",
    "    arr=arr[:j+1]\n",
    "    return arr\n",
    "arr = [1, 1, 2, 2, 2, 3, 3, 4, 4, 4, 5, 5]\n",
    "dedupe(arr)"
   ]
  },
  {
   "cell_type": "code",
   "execution_count": null,
   "id": "508768f2-8465-47b3-9af0-83363fead89d",
   "metadata": {},
   "outputs": [],
   "source": []
  }
 ],
 "metadata": {
  "kernelspec": {
   "display_name": "Python 3 (ipykernel)",
   "language": "python",
   "name": "python3"
  },
  "language_info": {
   "codemirror_mode": {
    "name": "ipython",
    "version": 3
   },
   "file_extension": ".py",
   "mimetype": "text/x-python",
   "name": "python",
   "nbconvert_exporter": "python",
   "pygments_lexer": "ipython3",
   "version": "3.9.7"
  }
 },
 "nbformat": 4,
 "nbformat_minor": 5
}
